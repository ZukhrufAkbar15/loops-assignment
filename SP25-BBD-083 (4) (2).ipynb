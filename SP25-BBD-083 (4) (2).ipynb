{
 "cells": [
  {
   "cell_type": "code",
   "execution_count": null,
   "id": "7dbf5281-9353-4006-b9df-65e9e0852f01",
   "metadata": {},
   "outputs": [],
   "source": [
    "#NAME: ZUKHRUF AKBAR\n",
    "#STUDENT ID: SP25-BBD-083"
   ]
  },
  {
   "cell_type": "code",
   "execution_count": 1,
   "id": "0e0b298c-b98d-4092-b921-a783108bac99",
   "metadata": {},
   "outputs": [
    {
     "name": "stdout",
     "output_type": "stream",
     "text": [
      "10\n",
      "9\n",
      "8\n",
      "7\n",
      "6\n",
      "5\n",
      "4\n",
      "3\n",
      "2\n",
      "1\n",
      "loop complete!\n"
     ]
    }
   ],
   "source": [
    "#QUESTION 1\n",
    "num = 10\n",
    "while num >=1:\n",
    "    print(num)\n",
    "    num -= 1\n",
    "print(\"loop complete!\")"
   ]
  },
  {
   "cell_type": "code",
   "execution_count": 3,
   "id": "5128efb4-b749-411a-8ef8-11dacf43ff89",
   "metadata": {},
   "outputs": [
    {
     "name": "stdout",
     "output_type": "stream",
     "text": [
      "2\n",
      "4\n",
      "6\n",
      "8\n",
      "10\n",
      "12\n",
      "14\n",
      "16\n",
      "18\n",
      "20\n"
     ]
    }
   ],
   "source": [
    "#QUESTION NO 02:\n",
    "num = 2\n",
    "while num <= 20:\n",
    "    print(num)\n",
    "    num += 2"
   ]
  },
  {
   "cell_type": "code",
   "execution_count": 5,
   "id": "17dd2fdf-2422-4565-a717-625852be7a5d",
   "metadata": {},
   "outputs": [
    {
     "name": "stdin",
     "output_type": "stream",
     "text": [
      "Enter a number:  5\n"
     ]
    },
    {
     "name": "stdout",
     "output_type": "stream",
     "text": [
      "the sum of first 5 natural numbers is: 15\n"
     ]
    }
   ],
   "source": [
    "#QUESTION NO 03\n",
    "n = int(input(\"Enter a number: \"))\n",
    "sum = 0\n",
    "i = 1\n",
    "while i <= n:\n",
    "    sum += i\n",
    "    i += 1\n",
    "print(\"the sum of first\", n, \"natural numbers is:\", sum)"
   ]
  },
  {
   "cell_type": "code",
   "execution_count": 7,
   "id": "26498cde-196e-4d83-9969-4e5a9b8b4bb9",
   "metadata": {},
   "outputs": [
    {
     "name": "stdin",
     "output_type": "stream",
     "text": [
      "Enter a positive number 4\n"
     ]
    },
    {
     "name": "stdout",
     "output_type": "stream",
     "text": [
      "thank you!\n"
     ]
    }
   ],
   "source": [
    "#QUESTION NO 04\n",
    "num = -1\n",
    "while num<=0:\n",
    "    num = int(input(\"Enter a positive number\"))\n",
    "print(\"thank you!\")"
   ]
  },
  {
   "cell_type": "code",
   "execution_count": 9,
   "id": "608c77a0-b6c1-43f8-9a39-9ee81b51d303",
   "metadata": {},
   "outputs": [
    {
     "name": "stdout",
     "output_type": "stream",
     "text": [
      "D\n",
      "a\n",
      "t\n",
      "a\n"
     ]
    }
   ],
   "source": [
    "#QUESTION NO 05\n",
    "s = \"Data\"\n",
    "i = 0\n",
    "while i < len(s):\n",
    "    print(s[i])\n",
    "    i += 1"
   ]
  },
  {
   "cell_type": "code",
   "execution_count": 11,
   "id": "aede3e68-13e3-4610-8ed1-7c773dff8266",
   "metadata": {},
   "outputs": [
    {
     "name": "stdin",
     "output_type": "stream",
     "text": [
      "Enter password zukhruf123\n",
      "Enter password analytics123\n"
     ]
    },
    {
     "name": "stdout",
     "output_type": "stream",
     "text": [
      "Access granted\n"
     ]
    }
   ],
   "source": [
    "#QUESTION NO 06\n",
    "correct_password = \"analytics123\"\n",
    "password= \"\"\n",
    "while password != correct_password:\n",
    "    password = input(\"Enter password\")\n",
    "print(\"Access granted\")"
   ]
  },
  {
   "cell_type": "code",
   "execution_count": 13,
   "id": "3194abc1-327b-4197-8b56-8c2aee74ea4a",
   "metadata": {},
   "outputs": [
    {
     "name": "stdin",
     "output_type": "stream",
     "text": [
      "Guess the secret  number:  63\n"
     ]
    },
    {
     "name": "stdout",
     "output_type": "stream",
     "text": [
      "Too high\n"
     ]
    },
    {
     "name": "stdin",
     "output_type": "stream",
     "text": [
      "Guess the secret  number:  1\n"
     ]
    },
    {
     "name": "stdout",
     "output_type": "stream",
     "text": [
      "Too low\n"
     ]
    },
    {
     "name": "stdin",
     "output_type": "stream",
     "text": [
      "Guess the secret  number:  3\n"
     ]
    },
    {
     "name": "stdout",
     "output_type": "stream",
     "text": [
      "Congratulations! You guessed it.\n"
     ]
    }
   ],
   "source": [
    "#QUESTION NO 07\n",
    "secret_number = 3\n",
    "guess = None\n",
    "while guess != secret_number:\n",
    "    guess = int(input(\"Guess the secret  number: \"))\n",
    "    if guess < secret_number:\n",
    "        print(\"Too low\")\n",
    "    elif guess > secret_number:\n",
    "        print(\"Too high\")\n",
    "    else:\n",
    "        print(\"Congratulations! You guessed it.\")"
   ]
  },
  {
   "cell_type": "code",
   "execution_count": 17,
   "id": "8fb7748c-0bd5-4b9f-8b59-a195e88f9777",
   "metadata": {},
   "outputs": [
    {
     "name": "stdin",
     "output_type": "stream",
     "text": [
      "Enter a positive integer:  4620\n"
     ]
    },
    {
     "name": "stdout",
     "output_type": "stream",
     "text": [
      "The number 4620 has 4 digits.\n"
     ]
    }
   ],
   "source": [
    "#QUESTION NO 08\n",
    "number = int(input(\"Enter a positive integer: \"))\n",
    "if number <= 0:\n",
    "    print(\"Please enter a positive integer.\")\n",
    "else:\n",
    "    count = 0\n",
    "    temp = number\n",
    "    while temp > 0:\n",
    "        temp //= 10  # Remove the last digit\n",
    "        count += 1\n",
    "    print(f\"The number {number} has {count} digits.\")"
   ]
  },
  {
   "cell_type": "code",
   "execution_count": 19,
   "id": "0ed0c567-b51f-4785-9efc-b59e58c20483",
   "metadata": {},
   "outputs": [
    {
     "name": "stdin",
     "output_type": "stream",
     "text": [
      "Enter a number:  3\n"
     ]
    },
    {
     "name": "stdout",
     "output_type": "stream",
     "text": [
      "Multiplication table for 3:\n",
      "3 x 1 = 3\n",
      "3 x 2 = 6\n",
      "3 x 3 = 9\n",
      "3 x 4 = 12\n",
      "3 x 5 = 15\n",
      "3 x 6 = 18\n",
      "3 x 7 = 21\n",
      "3 x 8 = 24\n",
      "3 x 9 = 27\n",
      "3 x 10 = 30\n"
     ]
    }
   ],
   "source": [
    "#QUESTION NO 09\n",
    "number = int(input(\"Enter a number: \"))\n",
    "i = 1\n",
    "print(f\"Multiplication table for {number}:\")\n",
    "while i <= 10:\n",
    "    result = number * i\n",
    "    print(f\"{number} x {i} = {result}\")\n",
    "    i += 1"
   ]
  },
  {
   "cell_type": "code",
   "execution_count": 23,
   "id": "2a0769ac-b737-4a2b-8e1f-72e302fad3ef",
   "metadata": {},
   "outputs": [
    {
     "name": "stdin",
     "output_type": "stream",
     "text": [
      "Enter a number (-1 to stop):  3\n",
      "Enter a number (-1 to stop):  2\n",
      "Enter a number (-1 to stop):  1\n",
      "Enter a number (-1 to stop):  -1\n"
     ]
    },
    {
     "name": "stdout",
     "output_type": "stream",
     "text": [
      "The average of the entered numbers is: 2.0\n"
     ]
    }
   ],
   "source": [
    "#QUESTION NO 10\n",
    "total = 0\n",
    "count = 0\n",
    "while True:\n",
    "    number = float(input(\"Enter a number (-1 to stop): \"))\n",
    "    if number == -1:\n",
    "        break \n",
    "    total += number\n",
    "    count += 1\n",
    "if count > 0:\n",
    "    average = total / count\n",
    "    print(f\"The average of the entered numbers is: {average}\")\n",
    "else:\n",
    "    print(\"No numbers were entered.\")"
   ]
  },
  {
   "cell_type": "code",
   "execution_count": null,
   "id": "2f219d99-8369-4bba-8b16-766f965bccbd",
   "metadata": {},
   "outputs": [],
   "source": []
  }
 ],
 "metadata": {
  "kernelspec": {
   "display_name": "Python 3 (ipykernel)",
   "language": "python",
   "name": "python3"
  },
  "language_info": {
   "codemirror_mode": {
    "name": "ipython",
    "version": 3
   },
   "file_extension": ".py",
   "mimetype": "text/x-python",
   "name": "python",
   "nbconvert_exporter": "python",
   "pygments_lexer": "ipython3",
   "version": "3.12.7"
  }
 },
 "nbformat": 4,
 "nbformat_minor": 5
}
